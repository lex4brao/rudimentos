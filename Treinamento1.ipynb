{
 "cells": [
  {
   "cell_type": "markdown",
   "metadata": {},
   "source": [
    "# Lista de Treinamento em python 1\n"
   ]
  },
  {
   "cell_type": "markdown",
   "metadata": {},
   "source": [
    "## MÓDULO 1 - PRIMEIROS COMANDOS"
   ]
  },
  {
   "cell_type": "markdown",
   "metadata": {},
   "source": [
    "1. Faça um programa que programa, que pergunte o nome do usuário"
   ]
  },
  {
   "cell_type": "code",
   "execution_count": 7,
   "metadata": {},
   "outputs": [],
   "source": [
    "nome = input(\"Qual seu nome?: \")\n",
    "print(f\"Olá {nome} tudo bom?\")"
   ]
  },
  {
   "cell_type": "markdown",
   "metadata": {},
   "source": [
    "2. Faça um programa que pergunte o nome, ano de nascimento e salário do funcionário, logo após apresente a ficha cadastral do funcionário\n"
   ]
  },
  {
   "cell_type": "code",
   "execution_count": null,
   "metadata": {},
   "outputs": [
    {
     "name": "stdout",
     "output_type": "stream",
     "text": [
      "-------- DADOS DO FUNCIONÁRIO ----------\n",
      "Nome: Alexandre\n",
      "Data de nascimento: 1990\n",
      "Salario: 2000.0\n"
     ]
    }
   ],
   "source": [
    "nome = input(\"Qual seu nome?: \")\n",
    "ano_nas = int(input(\"Em que no você nasceu?: \"))\n",
    "salario = float(input(\"Qual seu salario R$\"))\n",
    "\n",
    "print(\"-------- DADOS DO FUNCIONÁRIO ----------\")\n",
    "print(f\"Nome: {nome}\")\n",
    "print(f\"Data de nascimento: {ano_nas}\")\n",
    "print(f\"Salario: {salario}\")\n"
   ]
  },
  {
   "cell_type": "markdown",
   "metadata": {},
   "source": [
    "3. Faça um programa onde o usuário digita um número inteiro e o programa mostra o antecessor e seu sucessor"
   ]
  },
  {
   "cell_type": "code",
   "execution_count": null,
   "metadata": {},
   "outputs": [
    {
     "name": "stdout",
     "output_type": "stream",
     "text": [
      "Voce digitou 5\n",
      "Andecessor 4\n",
      "Sucessor 6\n"
     ]
    }
   ],
   "source": [
    "numb = int(input(\"Digite um numero:  \"))\n",
    "print(f\"Voce digitou {numb}\")\n",
    "print(f\"Andecessor {numb-1}\")\n",
    "print(f\"Sucessor {numb+1}\")"
   ]
  },
  {
   "cell_type": "markdown",
   "metadata": {},
   "source": [
    "4. Faça um programa onde o usuário digita dois valores e o programa mostra o resultado da\n",
    "\n",
    "- Soma\n",
    "- Subtração\n",
    "- Multiplicação\n",
    "- Divisão inteira\n",
    "- Divisão real\n",
    "- O resto da divisão"
   ]
  },
  {
   "cell_type": "code",
   "execution_count": 2,
   "metadata": {},
   "outputs": [
    {
     "name": "stdout",
     "output_type": "stream",
     "text": [
      "Vc digitou 2 e 5\n",
      "Soma: 7\n",
      "Subtração: -3\n",
      "Multiplicação: 10\n",
      "Divisão: 0.4\n",
      "Divisão inteira: 0\n",
      "Resto da divisão: 2\n"
     ]
    }
   ],
   "source": [
    "numb1 = int(input(\"Digite um numero: \"))\n",
    "numb2 = int(input(\"Digite outro numero\"))\n",
    "print(f\"Vc digitou {numb1} e {numb2}\")\n",
    "print(f'Soma: {numb1+numb2}')\n",
    "print(f'Subtração: {numb1-numb2}')\n",
    "print(f'Multiplicação: {numb1*numb2}')\n",
    "print(f'Divisão: {numb1/numb2}')\n",
    "print(f'Divisão inteira: {numb1//numb2}')\n",
    "print(f'Resto da divisão: {numb1%numb2}')"
   ]
  },
  {
   "cell_type": "markdown",
   "metadata": {},
   "source": [
    "5. Faça um programa que calcule a média de duas notas de um aluno"
   ]
  },
  {
   "cell_type": "code",
   "execution_count": 3,
   "metadata": {},
   "outputs": [
    {
     "name": "stdout",
     "output_type": "stream",
     "text": [
      "A média do aluno é 8.5\n"
     ]
    }
   ],
   "source": [
    "nota1 = int(input(\"Digite a nota 1: \"))\n",
    "nota2 = int(input(\"Digite a nota 2: \"))\n",
    "print(f\"A média do aluno é {(nota1+nota2)/2}\")"
   ]
  },
  {
   "cell_type": "markdown",
   "metadata": {},
   "source": [
    "6. Faça um programa de conversão de medidas, de metros para km, hm, dam, dm, cm, mm e arredonde os valores para duas casas decimais\n"
   ]
  },
  {
   "cell_type": "code",
   "execution_count": 6,
   "metadata": {},
   "outputs": [
    {
     "name": "stdout",
     "output_type": "stream",
     "text": [
      "Você digitou 10.0\n",
      "0.1\n",
      "1000.0\n"
     ]
    }
   ],
   "source": [
    "metro = float(input(\"Digite uma distancia em metros: \"))\n",
    "print(f\"Você digitou {metro}\")\n",
    "km = metro/100\n",
    "cm = metro*100\n",
    "mm = metro*1000\n",
    "print(f\"{km} Km\")\n",
    "print(f\"{cm} Cm\")\n",
    "print(f\"{mm} mm\")\n"
   ]
  },
  {
   "cell_type": "markdown",
   "metadata": {},
   "source": [
    "7. Faça um programa onde calcula quantos litros de tinta é necessário para pintar uma parede, sabendo que um litro de tinta pinta 2m²"
   ]
  },
  {
   "cell_type": "code",
   "execution_count": 8,
   "metadata": {},
   "outputs": [
    {
     "name": "stdout",
     "output_type": "stream",
     "text": [
      "A parede tem 12.0m²\n",
      "Será necessário 6.0 de tinta para pintar\n"
     ]
    }
   ],
   "source": [
    "largura = float(input(\"Digite a largura da parede: \"))\n",
    "comprimento = float(input(\"Digite a comprimento da parede: \"))\n",
    "area = largura*comprimento\n",
    "litros = area/2\n",
    "print(f\"A parede tem {area}m²\")\n",
    "print(f\"Será necessário {litros} de tinta para pintar\")"
   ]
  },
  {
   "cell_type": "markdown",
   "metadata": {},
   "source": [
    "8. Faça um programa que o usuário digita o valor de um produto e o programa retorna o valor da compra com 5% de desconto, o resultado deve ter duas casas decimais\n"
   ]
  },
  {
   "cell_type": "code",
   "execution_count": 11,
   "metadata": {},
   "outputs": [
    {
     "name": "stdout",
     "output_type": "stream",
     "text": [
      "Total da compra 100.0\n",
      "Valor da compra com desconto R$95.00\n"
     ]
    }
   ],
   "source": [
    "produto = float(input(\"Valor do produto R$: \"))\n",
    "print(f\"Total da compra {produto}\")\n",
    "print(f\"Valor da compra com desconto R${(produto*.95):.2f}\")"
   ]
  },
  {
   "cell_type": "markdown",
   "metadata": {},
   "source": [
    "9. Faça um programa q faz reajuste salarial, onde o usuário digita o valor do salário e a porcentagem do aumento salarial\n"
   ]
  },
  {
   "cell_type": "code",
   "execution_count": 16,
   "metadata": {},
   "outputs": [
    {
     "name": "stdout",
     "output_type": "stream",
     "text": [
      "O salario do funcionario é 1000.0\n",
      "O novo salario será 1500.0\n"
     ]
    }
   ],
   "source": [
    "salario = float(input(\"Qual o valor do salário do funcionário R$: \"))\n",
    "aumento = int(input(\"Qual a porcentagem de aumento: \")) \n",
    "novo_salario = salario*(1+(aumento/100))\n",
    "print(f\"O salario do funcionario é {salario}\")\n",
    "print(f\"O novo salario será {novo_salario}\")"
   ]
  },
  {
   "cell_type": "markdown",
   "metadata": {},
   "source": [
    "10. Faça um programa onde o usuário digita quantos anos ele fuma, quantos cigarros ele fuma por dia, e o programa informa quantos cigarros ele já fumou, e quanto tempo de vida ele já perdeu por fumar, lembrando q cada cigarro reduz 10 minutos de vida\n"
   ]
  },
  {
   "cell_type": "code",
   "execution_count": 19,
   "metadata": {},
   "outputs": [
    {
     "name": "stdout",
     "output_type": "stream",
     "text": [
      "Você já fumou 73000 e perdeu 506 dias de vida\n"
     ]
    }
   ],
   "source": [
    "cigarro_dia = int(input(\"Quantos cigarros você fuma por dia?: \"))\n",
    "anos_fumante = int(input(\"Quantos anos você fuma? :\"))\n",
    "qtd_cigarro_fumado = cigarro_dia*(anos_fumante*365)\n",
    "minutos_perditos = qtd_cigarro_fumado*10\n",
    "print(f\"Você já fumou {qtd_cigarro_fumado} e perdeu {int(minutos_perditos/(60*24))} dias de vida\")\n"
   ]
  },
  {
   "cell_type": "markdown",
   "metadata": {},
   "source": []
  }
 ],
 "metadata": {
  "kernelspec": {
   "display_name": "Python 3",
   "language": "python",
   "name": "python3"
  },
  "language_info": {
   "codemirror_mode": {
    "name": "ipython",
    "version": 3
   },
   "file_extension": ".py",
   "mimetype": "text/x-python",
   "name": "python",
   "nbconvert_exporter": "python",
   "pygments_lexer": "ipython3",
   "version": "3.10.12"
  }
 },
 "nbformat": 4,
 "nbformat_minor": 2
}
